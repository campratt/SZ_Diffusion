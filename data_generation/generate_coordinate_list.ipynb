{
 "cells": [
  {
   "cell_type": "code",
   "execution_count": null,
   "id": "01482660",
   "metadata": {},
   "outputs": [],
   "source": [
    "import numpy as np\n",
    "import healpy as hp"
   ]
  },
  {
   "cell_type": "code",
   "execution_count": 29,
   "id": "5925f7ad",
   "metadata": {},
   "outputs": [],
   "source": [
    "np.random.seed(0)\n",
    "\n",
    "nside = 2048\n",
    "N_per_map = 500\n",
    "N_maps = 50\n",
    "glat_thresh = 20\n",
    "\n",
    "sample_ids = np.arange(0, N_maps*N_per_map)\n",
    "map_ids = []\n",
    "for i in range(N_maps):\n",
    "    value = f\"{i:05d}\"  # Format number with leading zeros to be 5 digits\n",
    "    map_ids.extend([value] * N_per_map)\n",
    "\n",
    "map_ids = np.array(map_ids)\n",
    "\n",
    "pixs = np.arange(12*nside**2)\n",
    "lon,lat = hp.pix2ang(nside, pixs, lonlat=True)\n",
    "valid_pixs = np.where(abs(lat) > glat_thresh)[0]\n",
    "valid_pixs = np.random.choice(valid_pixs, size=N_per_map*N_maps, replace=True)\n",
    "\n",
    "lon,lat = hp.pix2ang(nside, valid_pixs, lonlat=True)\n",
    "\n",
    "fn = 'sample_coordinates.txt'\n",
    "np.savetxt(fn, np.array([sample_ids, map_ids, valid_pixs, lon, lat],dtype=object).T, fmt='%i %s %i %.5f %.5f', header='sample_id map_id pix glon glat')"
   ]
  }
 ],
 "metadata": {
  "kernelspec": {
   "display_name": "old-base",
   "language": "python",
   "name": "python3"
  },
  "language_info": {
   "codemirror_mode": {
    "name": "ipython",
    "version": 3
   },
   "file_extension": ".py",
   "mimetype": "text/x-python",
   "name": "python",
   "nbconvert_exporter": "python",
   "pygments_lexer": "ipython3",
   "version": "3.9.7"
  }
 },
 "nbformat": 4,
 "nbformat_minor": 5
}
